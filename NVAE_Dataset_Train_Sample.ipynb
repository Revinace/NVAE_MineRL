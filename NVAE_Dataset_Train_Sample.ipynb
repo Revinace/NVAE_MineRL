{
 "nbformat": 4,
 "nbformat_minor": 0,
 "metadata": {
  "colab": {
   "name": "NVAE.ipynb",
   "provenance": [],
   "collapsed_sections": []
  },
  "kernelspec": {
   "name": "python3",
   "display_name": "Python 3"
  },
  "language_info": {
   "name": "python"
  },
  "accelerator": "GPU"
 },
 "cells": [
  {
   "cell_type": "code",
   "source": [
    "\"\"\"!sudo add-apt-repository -y ppa:openjdk-r/ppa\n",
    "!sudo apt-get purge openjdk-*\n",
    "!sudo apt-get install openjdk-8-jdk\n",
    "!sudo apt-get install xvfb xserver-xephyr vnc4server python-opengl ffmpeg\n",
    "!pip3 install --upgrade minerl\"\"\""
   ],
   "metadata": {
    "id": "OegslVzZkDwU"
   },
   "execution_count": null,
   "outputs": []
  },
  {
   "cell_type": "code",
   "metadata": {
    "id": "lhz3z-1JP_ao"
   },
   "source": [
    "!pip install -r requirements.txt\n",
    "!pip install minerl"
   ],
   "execution_count": null,
   "outputs": []
  },
  {
   "cell_type": "code",
   "source": [
    "!python scripts/create_custom_lmdb_from_minerl.py --custom_lmdb_path datasets/minecraft_lmdb\n",
    "!python train.py --data datasets/minecraft_lmdb --root results --save minecraft --dataset minecraft --OS linux --batch_size 100\n",
    "!python sample_images.py --OS linux --batch_size 1"
   ],
   "metadata": {
    "id": "d8v21b9CIkp6",
    "pycharm": {
     "name": "#%%\n"
    }
   },
   "execution_count": 1,
   "outputs": []
  }
 ]
}